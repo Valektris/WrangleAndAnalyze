{
 "cells": [
  {
   "cell_type": "markdown",
   "metadata": {},
   "source": [
    "## Reporting: wragle_report\n",
    "* Create a **300-600 word written report** called \"wrangle_report.pdf\" or \"wrangle_report.html\" that briefly describes your wrangling efforts. This is to be framed as an internal document."
   ]
  },
  {
   "cell_type": "markdown",
   "metadata": {},
   "source": [
    "# Wrangle Report - February 2022"
   ]
  },
  {
   "cell_type": "markdown",
   "metadata": {},
   "source": [
    "## Data used for wrangling:\n",
    "\n",
    "-Tweet archive from WeRateDogs\n",
    "\n",
    "-Tweet data pulled from Twitter API\n",
    "\n",
    "-Tweet images gathered from twitter"
   ]
  },
  {
   "cell_type": "markdown",
   "metadata": {},
   "source": [
    "### Quality issues\n",
    "1. There are tweets that do not have images\n",
    "\n",
    "2. Some dogs have invalid names, such as None, a, an\n",
    "\n",
    "3. Timestamps should be datetime instead of float64\n",
    "\n",
    "4. In the archive, the columns for doggo, floofer, pupper, and puppo should be combined into a single column\n",
    "\n",
    "5. In the images, some of the breeds listed are objects\n",
    "\n",
    "6. In images, some breeds are actually other animals\n",
    "\n",
    "7. Archive contains retweets, which are not what we're looking for\n",
    "\n",
    "8. In the columns for doggo, floofer, pupper, and puppo, if there isn't a value, it should be changed from None to NULL\n",
    "\n",
    "\n",
    "\n",
    "### Tidiness issues\n",
    "1. There are unneccessary columns that have the value NaN\n",
    "\n",
    "2. Image number in the images dataframe is unneccessary\n",
    "\n"
   ]
  },
  {
   "cell_type": "markdown",
   "metadata": {},
   "source": [
    "## Cleaning Data"
   ]
  },
  {
   "cell_type": "markdown",
   "metadata": {},
   "source": [
    "### Issue #1: archive contains retweets, which are not what we want in this dataset.\n",
    "\n",
    "For our purposes we only need tweets, and not retweets. \n"
   ]
  },
  {
   "cell_type": "markdown",
   "metadata": {},
   "source": [
    "#### Define: Remove retweets from archive_clean \n",
    "\n",
    "The retweets were removed by keeping everything that had datapoints related to retweets set to NULL"
   ]
  },
  {
   "cell_type": "markdown",
   "metadata": {},
   "source": [
    "### Issue #2: Some names listed are invalid, such as a, an, or None\n",
    "\n",
    "While the program did well at picking out dog names from the data provided, it was not always accurate. Occasionally some dogs would have the name None, a, an, etc.\n",
    "\n"
   ]
  },
  {
   "cell_type": "markdown",
   "metadata": {},
   "source": [
    "#### Define Change invalid names such as a or a to None, and then change None to NULL\n",
    "\n",
    "If dog names contained lower case letters, I changed them to NaN. Next I replaced all instances of \"None\" with NaN as well."
   ]
  },
  {
   "cell_type": "markdown",
   "metadata": {},
   "source": [
    "### Issue #3: Datatype of timestamps is float64 when it should be datetime\n",
    "\n",
    "Timestamp was stored as object. The correct datatype would be datetime."
   ]
  },
  {
   "cell_type": "markdown",
   "metadata": {},
   "source": [
    "#### Define Change datatype of timestamps to datetime instead of float64\n",
    "\n",
    "Corrected the datatype to datetime."
   ]
  },
  {
   "cell_type": "markdown",
   "metadata": {},
   "source": [
    "### Issue #4: The columns doggo, floofer, pupper, and puppo should be a single column\n",
    "\n",
    "The four different classifications of dog should be combined in a single column, instead of four separate ones.\n",
    "\n",
    "### Issue #5: There are values of None in those columns. should be replaced with NaN\n",
    "\n",
    "Some columns have the value of None. Instead the value should be NaN."
   ]
  },
  {
   "cell_type": "markdown",
   "metadata": {},
   "source": [
    "#### Define Combine the columns for doggo, floofer, pupper, and puppo into a single column and change any values of None to NaN\n",
    "\n",
    "The four columns were combined with the values of None being changed to NaN."
   ]
  },
  {
   "cell_type": "markdown",
   "metadata": {},
   "source": [
    "### Issue #6: Some images are labled as things other than dogs\n",
    "\n",
    "Some of the images were incorrectly labled as things like \"shopping cart\""
   ]
  },
  {
   "cell_type": "markdown",
   "metadata": {},
   "source": [
    "#### Define Remove rows where the images are labeled as not dogs. This handles both the issue where the images are labled as objects and the issue where they are labled as other animals.\n",
    "\n",
    "Rows in which the labels were not types of dogs were removed as there was not a simple way to correct the incorrect values."
   ]
  },
  {
   "cell_type": "markdown",
   "metadata": {},
   "source": [
    "### Issue #7: Ratings should be combined into a single value\n",
    "\n",
    "There is no need for the numerator and denominator to be a separate value, as they were not used for any math operations."
   ]
  },
  {
   "cell_type": "markdown",
   "metadata": {},
   "source": [
    "#### Define combine the ratings columns\n",
    "\n",
    "The two columns related to ratings were combined into one singular column."
   ]
  },
  {
   "cell_type": "markdown",
   "metadata": {},
   "source": [
    "### Issue #8: Some tweets are replies to other tweets, these should be removed.\n",
    "\n",
    "As was the case with retweets, replies were also not relevant for this project."
   ]
  },
  {
   "cell_type": "markdown",
   "metadata": {},
   "source": [
    "#### Define Remove tweet replies from archive_clean\n",
    "\n",
    "Any row with a value in the columns related to tweet replies that was not NaN was dropped."
   ]
  },
  {
   "cell_type": "markdown",
   "metadata": {},
   "source": [
    "### Issue #9: There are unneccessary columns that are primarially NULL values\n",
    "\n",
    "There were several columns that contained primarily NaN for values and had no relevance for this project."
   ]
  },
  {
   "cell_type": "markdown",
   "metadata": {},
   "source": [
    "#### Define Drop unnecessary columns\n",
    "\n",
    "Unnecessary columns were dropped, making the tables easier to read."
   ]
  },
  {
   "cell_type": "markdown",
   "metadata": {},
   "source": [
    "### Issue #10: Img_num column is unnecessary\n",
    "\n",
    "The field of Img_num in the images file was unnecessary."
   ]
  },
  {
   "cell_type": "markdown",
   "metadata": {},
   "source": [
    "#### Drop img_num column\n",
    "\n",
    "The img_num column was dropped."
   ]
  },
  {
   "cell_type": "markdown",
   "metadata": {},
   "source": [
    "## Analysis\n",
    "\n",
    "After cleaning operations were complete, I used the information to create insights. Based on the information provided I discovered that the most common dog breed associated with the tweets was Golden Retriever. In regard to the WeRateDogs dog typing system, the most common one was Pupper, however some dogs did have more than one kind of type. Also there is a positive correlation between retweet count and favorite count. This is to be expected. There was also a large number of retweets in which it was not also favorited."
   ]
  },
  {
   "cell_type": "code",
   "execution_count": null,
   "metadata": {},
   "outputs": [],
   "source": []
  }
 ],
 "metadata": {
  "kernelspec": {
   "display_name": "Python 3",
   "language": "python",
   "name": "python3"
  },
  "language_info": {
   "codemirror_mode": {
    "name": "ipython",
    "version": 3
   },
   "file_extension": ".py",
   "mimetype": "text/x-python",
   "name": "python",
   "nbconvert_exporter": "python",
   "pygments_lexer": "ipython3",
   "version": "3.6.3"
  }
 },
 "nbformat": 4,
 "nbformat_minor": 2
}
